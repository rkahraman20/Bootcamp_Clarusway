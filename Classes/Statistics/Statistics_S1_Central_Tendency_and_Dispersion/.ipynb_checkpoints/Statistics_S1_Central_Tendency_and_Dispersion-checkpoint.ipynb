{
 "cells": [
  {
   "cell_type": "markdown",
   "metadata": {
    "id": "35H0L4-Qs1jG"
   },
   "source": [
    "# **Central Tendency**"
   ]
  },
  {
   "cell_type": "code",
   "execution_count": 1,
   "metadata": {
    "id": "-OE6mNQRsjz1"
   },
   "outputs": [],
   "source": [
    "#Import the required libraries (just one time)\n",
    "import numpy as np\n",
    "from scipy import stats"
   ]
  },
  {
   "cell_type": "code",
   "execution_count": 2,
   "metadata": {
    "id": "ukaWo0NDtG_L"
   },
   "outputs": [],
   "source": [
    "#Define the list of data\n",
    "salary = [102, 33, 26, 27, 30, 25, 33, 33, 24]"
   ]
  },
  {
   "cell_type": "code",
   "execution_count": 3,
   "metadata": {
    "colab": {
     "base_uri": "https://localhost:8080/"
    },
    "id": "Iwo0FXPXtjDA",
    "outputId": "c31d7165-a2f5-4f34-8835-99fe50bbe68b"
   },
   "outputs": [
    {
     "name": "stdout",
     "output_type": "stream",
     "text": [
      "Length of the Salary: 9\n"
     ]
    }
   ],
   "source": [
    "#Length of the salary list\n",
    "length = len(salary)\n",
    "print(\"Length of the Salary:\", length)"
   ]
  },
  {
   "cell_type": "code",
   "execution_count": 4,
   "metadata": {
    "colab": {
     "base_uri": "https://localhost:8080/"
    },
    "id": "BHgYwxpjtlJe",
    "outputId": "7c3f5369-9f4e-47a2-9cb1-fb5d6ed68e73"
   },
   "outputs": [
    {
     "name": "stdout",
     "output_type": "stream",
     "text": [
      "Mean of the Salary: 37.0\n"
     ]
    }
   ],
   "source": [
    "#Find the mean of the salary\n",
    "mean_salary = np.mean(salary)\n",
    "print(\"Mean of the Salary:\", mean_salary)"
   ]
  },
  {
   "cell_type": "code",
   "execution_count": 5,
   "metadata": {
    "colab": {
     "base_uri": "https://localhost:8080/"
    },
    "id": "zifyh2Pwt9Rn",
    "outputId": "cbba2d4b-1b27-463c-e927-bf6061d27126"
   },
   "outputs": [
    {
     "name": "stdout",
     "output_type": "stream",
     "text": [
      "Median of the Salary: 30.0\n"
     ]
    }
   ],
   "source": [
    "#Find the median of the salary\n",
    "median_salary = np.median(salary)\n",
    "print(\"Median of the Salary:\", median_salary)"
   ]
  },
  {
   "cell_type": "code",
   "execution_count": 6,
   "metadata": {
    "colab": {
     "base_uri": "https://localhost:8080/"
    },
    "id": "gZS7pjKHuE1d",
    "outputId": "f8d6c83e-6107-4c75-b3dc-6813ea705f42"
   },
   "outputs": [
    {
     "name": "stdout",
     "output_type": "stream",
     "text": [
      "Mode of the Salary: ModeResult(mode=array([33]), count=array([3]))\n"
     ]
    }
   ],
   "source": [
    "#Find the mode of the salary\n",
    "mode_salary = stats.mode(salary)\n",
    "print(\"Mode of the Salary:\", mode_salary)"
   ]
  },
  {
   "cell_type": "markdown",
   "metadata": {
    "id": "tI4oimoMuxx9"
   },
   "source": [
    "# **Min & Max & Range**"
   ]
  },
  {
   "cell_type": "code",
   "execution_count": 7,
   "metadata": {
    "id": "JcK1gazaug8M"
   },
   "outputs": [],
   "source": [
    "#Define the list of data\n",
    "data = [32, 36, 46, 47, 56, 69, 75, 79, 79, 88, 89, 91, 92, 93, 96, 97, 101, 105, 112, 116]"
   ]
  },
  {
   "cell_type": "code",
   "execution_count": 8,
   "metadata": {
    "colab": {
     "base_uri": "https://localhost:8080/"
    },
    "id": "7OtlSszqu7Ze",
    "outputId": "f6c53a44-493c-4624-fe00-28dbb21e7f3a"
   },
   "outputs": [
    {
     "name": "stdout",
     "output_type": "stream",
     "text": [
      "Minimum of the Data: 32\n"
     ]
    }
   ],
   "source": [
    "#Find the minimum of the data\n",
    "min_data = np.min(data)\n",
    "print(\"Minimum of the Data:\", min_data)"
   ]
  },
  {
   "cell_type": "code",
   "execution_count": 9,
   "metadata": {
    "colab": {
     "base_uri": "https://localhost:8080/"
    },
    "id": "qhRdRz3zvB-D",
    "outputId": "9e41156c-171f-4d91-f45f-5d391376e663"
   },
   "outputs": [
    {
     "name": "stdout",
     "output_type": "stream",
     "text": [
      "Maximum of the Data: 116\n"
     ]
    }
   ],
   "source": [
    "#Find the max of the data\n",
    "max_data = np.max(data)\n",
    "print(\"Maximum of the Data:\", max_data)"
   ]
  },
  {
   "cell_type": "code",
   "execution_count": 10,
   "metadata": {
    "colab": {
     "base_uri": "https://localhost:8080/"
    },
    "id": "GTwYrXvyvFyl",
    "outputId": "ac188a88-2882-414e-e79d-775a420d1c31"
   },
   "outputs": [
    {
     "name": "stdout",
     "output_type": "stream",
     "text": [
      "Range of the Data: 84\n"
     ]
    }
   ],
   "source": [
    "#Find the range of the data\n",
    "range_data = np.max(data) - np.min(data)\n",
    "print(\"Range of the Data:\", range_data)"
   ]
  },
  {
   "cell_type": "code",
   "execution_count": 11,
   "metadata": {},
   "outputs": [
    {
     "name": "stdout",
     "output_type": "stream",
     "text": [
      "Range of the Data: 84\n"
     ]
    }
   ],
   "source": [
    "#Find the range of the data\n",
    "range_data = np.ptp(data)\n",
    "print(\"Range of the Data:\", range_data)"
   ]
  },
  {
   "cell_type": "markdown",
   "metadata": {
    "id": "FCGvjBTzvWNs"
   },
   "source": [
    "# **Q1 & Q2 & Q3 & IQR**"
   ]
  },
  {
   "cell_type": "code",
   "execution_count": 12,
   "metadata": {
    "id": "lKbwrvqLvI92"
   },
   "outputs": [],
   "source": [
    "#Define the list of the data\n",
    "data = [32, 36, 46, 47, 56, 69, 75, 79, 80, 88, 89]"
   ]
  },
  {
   "cell_type": "code",
   "execution_count": 13,
   "metadata": {},
   "outputs": [
    {
     "name": "stdout",
     "output_type": "stream",
     "text": [
      "Q1 of the Data: 46.5\n"
     ]
    }
   ],
   "source": [
    "#First Quartile (Q1) of the data\n",
    "q1_data = np.percentile(data, 25)\n",
    "print(\"Q1 of the Data:\", q1_data)"
   ]
  },
  {
   "cell_type": "code",
   "execution_count": 14,
   "metadata": {},
   "outputs": [
    {
     "name": "stdout",
     "output_type": "stream",
     "text": [
      "Q1 of the Data: 46.5\n"
     ]
    }
   ],
   "source": [
    "#First Quartile (Q1) of the data\n",
    "q1_data = np.quantile(data, 0.25)\n",
    "print(\"Q1 of the Data:\", q1_data)"
   ]
  },
  {
   "cell_type": "code",
   "execution_count": 15,
   "metadata": {
    "colab": {
     "base_uri": "https://localhost:8080/"
    },
    "id": "akM-8vjfwNNf",
    "outputId": "079aff9d-c286-4c1e-e1aa-4af5a8bc7276"
   },
   "outputs": [
    {
     "name": "stdout",
     "output_type": "stream",
     "text": [
      "Q2 of the Data: 69.0\n"
     ]
    }
   ],
   "source": [
    "#Second Quartile (Q2) of the data\n",
    "q2_data = np.percentile(data, 50)\n",
    "print(\"Q2 of the Data:\", q2_data)"
   ]
  },
  {
   "cell_type": "code",
   "execution_count": 16,
   "metadata": {
    "colab": {
     "base_uri": "https://localhost:8080/"
    },
    "id": "HSVEjAHlwVPo",
    "outputId": "1d1471bc-d4d8-43db-b66d-37ad61585e35"
   },
   "outputs": [
    {
     "name": "stdout",
     "output_type": "stream",
     "text": [
      "Q2 of the Data: 69.0\n"
     ]
    }
   ],
   "source": [
    "#Second Quartile (Q2) of the data\n",
    "q2_data = np.quantile(data, 0.5)\n",
    "print(\"Q2 of the Data:\", q2_data)"
   ]
  },
  {
   "cell_type": "code",
   "execution_count": 17,
   "metadata": {},
   "outputs": [
    {
     "name": "stdout",
     "output_type": "stream",
     "text": [
      "Q2 of the Data: 69.0\n"
     ]
    }
   ],
   "source": [
    "#Second Quartile (Q2) of the data\n",
    "q2_data = np.median(data)\n",
    "print(\"Q2 of the Data:\", q2_data)"
   ]
  },
  {
   "cell_type": "code",
   "execution_count": 18,
   "metadata": {
    "colab": {
     "base_uri": "https://localhost:8080/"
    },
    "id": "bFpoiCeowXqK",
    "outputId": "5f613b18-31a1-4aea-cede-7408d9bd3734"
   },
   "outputs": [
    {
     "name": "stdout",
     "output_type": "stream",
     "text": [
      "Q3 of the Data: 79.5\n"
     ]
    }
   ],
   "source": [
    "#Third Quartile (Q3) of the data\n",
    "q3_data = np.percentile(data, 75)\n",
    "print(\"Q3 of the Data:\", q3_data)"
   ]
  },
  {
   "cell_type": "code",
   "execution_count": 19,
   "metadata": {},
   "outputs": [
    {
     "name": "stdout",
     "output_type": "stream",
     "text": [
      "Q3 of the Data: 79.5\n"
     ]
    }
   ],
   "source": [
    "#Third Quartile (Q3) of the data\n",
    "q3_data = np.quantile(data, 0.75)\n",
    "print(\"Q3 of the Data:\", q3_data)"
   ]
  },
  {
   "cell_type": "code",
   "execution_count": 20,
   "metadata": {
    "colab": {
     "base_uri": "https://localhost:8080/"
    },
    "id": "U1abvE4Qwh9K",
    "outputId": "5f64299c-5cdf-48bd-bb29-e793c0e13a98"
   },
   "outputs": [
    {
     "name": "stdout",
     "output_type": "stream",
     "text": [
      "IQR of the Data: 33.0\n"
     ]
    }
   ],
   "source": [
    "# Interquaritle range (IQR) of the data\n",
    "iqr_data = np.percentile(data, 75) - np.percentile(data, 25)\n",
    "print(\"IQR of the Data:\", iqr_data)"
   ]
  },
  {
   "cell_type": "code",
   "execution_count": 21,
   "metadata": {},
   "outputs": [
    {
     "name": "stdout",
     "output_type": "stream",
     "text": [
      "IQR of the Data: 33.0\n"
     ]
    }
   ],
   "source": [
    "# Interquaritle range (IQR) of the data with scipy stats\n",
    "iqr_data = stats.iqr(data)\n",
    "print(\"IQR of the Data:\", iqr_data)"
   ]
  },
  {
   "cell_type": "code",
   "execution_count": null,
   "metadata": {
    "colab": {
     "base_uri": "https://localhost:8080/",
     "height": 265
    },
    "id": "6X0Vg9KHxdhn",
    "outputId": "0ebfe397-2d89-465d-eb74-133b6ce2f811"
   },
   "outputs": [],
   "source": [
    "#Draw a boxplot of the data\n",
    "import matplotlib.pyplot as plt\n",
    "plt.boxplot(data);"
   ]
  },
  {
   "cell_type": "code",
   "execution_count": null,
   "metadata": {
    "colab": {
     "base_uri": "https://localhost:8080/",
     "height": 265
    },
    "id": "aiePnBQSx7H7",
    "outputId": "276e3c75-87f8-4bc7-80a4-3a135f964dd2"
   },
   "outputs": [],
   "source": [
    "#Draw a boxplot of the data with an outlier\n",
    "data2 = [32, 36, 46, 47, 56, 69, 75, 79, 80, 88, 89, 145]\n",
    "plt.boxplot(data2);"
   ]
  },
  {
   "cell_type": "markdown",
   "metadata": {
    "id": "ZJ540m6GxZ6r"
   },
   "source": [
    "# **Standard Deviation and Variance**"
   ]
  },
  {
   "cell_type": "code",
   "execution_count": null,
   "metadata": {
    "colab": {
     "base_uri": "https://localhost:8080/"
    },
    "id": "PRheT7IZxM7S",
    "outputId": "c33629be-650c-4eb2-bb07-84662ebf2bf9"
   },
   "outputs": [],
   "source": [
    "#Define the list of data\n",
    "data = [32, 36, 46, 47, 56, 69, 75, 79, 80, 88, 89]"
   ]
  },
  {
   "cell_type": "code",
   "execution_count": null,
   "metadata": {},
   "outputs": [],
   "source": [
    "#Find the variance of the data\n",
    "var_data = np.var(data)\n",
    "print(\"Variance of the Data:\", var_data)"
   ]
  },
  {
   "cell_type": "code",
   "execution_count": null,
   "metadata": {
    "colab": {
     "base_uri": "https://localhost:8080/"
    },
    "id": "0y8MI8j2yjdY",
    "outputId": "0c770850-77ac-4145-8b7f-280c607c13d3"
   },
   "outputs": [],
   "source": [
    "#Find the standard deviation of the data\n",
    "std_data = np.std(data)\n",
    "print(\"Standard Deviation of the Data:\", std_data)"
   ]
  },
  {
   "cell_type": "code",
   "execution_count": null,
   "metadata": {
    "colab": {
     "base_uri": "https://localhost:8080/"
    },
    "id": "SEgWrANUym1r",
    "outputId": "a22a3330-ffbf-4adc-e705-a07bdb7e6332"
   },
   "outputs": [],
   "source": [
    "#Find the standard deviation of the data using the formula\n",
    "std_data = np.sqrt(np.var(data))\n",
    "print(\"Standard Deviation of the Data:\", std_data)"
   ]
  }
 ],
 "metadata": {
  "colab": {
   "collapsed_sections": [],
   "name": "Statistics_S2_(Central&Dipersion)_20Apr2022.ipynb",
   "provenance": []
  },
  "kernelspec": {
   "display_name": "Python 3 (ipykernel)",
   "language": "python",
   "name": "python3"
  },
  "language_info": {
   "codemirror_mode": {
    "name": "ipython",
    "version": 3
   },
   "file_extension": ".py",
   "mimetype": "text/x-python",
   "name": "python",
   "nbconvert_exporter": "python",
   "pygments_lexer": "ipython3",
   "version": "3.9.7"
  }
 },
 "nbformat": 4,
 "nbformat_minor": 4
}

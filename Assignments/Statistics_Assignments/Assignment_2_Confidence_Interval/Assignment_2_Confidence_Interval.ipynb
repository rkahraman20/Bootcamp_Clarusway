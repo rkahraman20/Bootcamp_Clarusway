{
 "cells": [
  {
   "cell_type": "code",
   "execution_count": 1,
   "id": "8b1d0233",
   "metadata": {},
   "outputs": [],
   "source": [
    "import numpy as np\n",
    "from scipy import stats\n",
    "import seaborn as sns"
   ]
  },
  {
   "cell_type": "markdown",
   "id": "285cad4c",
   "metadata": {},
   "source": [
    "**Exercise 1:** Suppose scores on exams in statistics are normally distributed with an unknown population mean and a population standard deviation of 3 points. A random sample of 36 scores is taken and gives a sample mean (sample  mean score) of 68. Find a confidence interval estimate for the population mean exam score (the mean score on all exams).\n",
    "Find a 90% confidence interval for the true (population) mean of statistics exam scores. \n"
   ]
  },
  {
   "cell_type": "code",
   "execution_count": 2,
   "id": "178b8995",
   "metadata": {},
   "outputs": [],
   "source": [
    "sigma = 3\n",
    "xbar = 68\n",
    "n = 36\n",
    "z = 1.645   # for ci = 90%"
   ]
  },
  {
   "cell_type": "code",
   "execution_count": 3,
   "id": "bf8b9cc8",
   "metadata": {},
   "outputs": [
    {
     "data": {
      "text/plain": [
       "0.5"
      ]
     },
     "execution_count": 3,
     "metadata": {},
     "output_type": "execute_result"
    }
   ],
   "source": [
    "sem = sigma / np.sqrt(n)\n",
    "sem"
   ]
  },
  {
   "cell_type": "code",
   "execution_count": 4,
   "id": "1652111f",
   "metadata": {},
   "outputs": [
    {
     "data": {
      "text/plain": [
       "0.8225"
      ]
     },
     "execution_count": 4,
     "metadata": {},
     "output_type": "execute_result"
    }
   ],
   "source": [
    "moe = 1.645 * sem \n",
    "moe"
   ]
  },
  {
   "cell_type": "code",
   "execution_count": 5,
   "id": "ea5157c4",
   "metadata": {},
   "outputs": [
    {
     "data": {
      "text/plain": [
       "67.1775"
      ]
     },
     "execution_count": 5,
     "metadata": {},
     "output_type": "execute_result"
    }
   ],
   "source": [
    "#lower = xbar - z * (σ/√n)\n",
    "lower  = xbar - moe\n",
    "lower"
   ]
  },
  {
   "cell_type": "code",
   "execution_count": 6,
   "id": "aae02916",
   "metadata": {},
   "outputs": [
    {
     "data": {
      "text/plain": [
       "68.8225"
      ]
     },
     "execution_count": 6,
     "metadata": {},
     "output_type": "execute_result"
    }
   ],
   "source": [
    "#upper = xbar + z * (σ/√n)\n",
    "upper  = xbar + moe\n",
    "upper"
   ]
  },
  {
   "cell_type": "code",
   "execution_count": 7,
   "id": "ce2bed46",
   "metadata": {},
   "outputs": [
    {
     "data": {
      "text/plain": [
       "(67.1775, 68.8225)"
      ]
     },
     "execution_count": 7,
     "metadata": {},
     "output_type": "execute_result"
    }
   ],
   "source": [
    "ci = (lower, upper)\n",
    "ci"
   ]
  },
  {
   "cell_type": "markdown",
   "id": "e25c95fc",
   "metadata": {},
   "source": [
    "**Exercise 2:** What is the normal body temperature for healthy humans? A random sample of 130 healthy human body temperatures provided by Allen Shoemaker7 yielded 98.25 degrees and standard deviation 0.73 degrees. \n",
    "Give a 99% confidence interval for the average body temperature of healthy people.\n"
   ]
  },
  {
   "cell_type": "code",
   "execution_count": 8,
   "id": "c09c4c1b",
   "metadata": {},
   "outputs": [],
   "source": [
    "sigma = 0.73\n",
    "xbar = 98.25\n",
    "n = 130\n",
    "z = 2.576   # for ci = 99%"
   ]
  },
  {
   "cell_type": "code",
   "execution_count": 9,
   "id": "26935393",
   "metadata": {},
   "outputs": [
    {
     "data": {
      "text/plain": [
       "0.06402523540941313"
      ]
     },
     "execution_count": 9,
     "metadata": {},
     "output_type": "execute_result"
    }
   ],
   "source": [
    "sem = sigma / np.sqrt(n)\n",
    "sem"
   ]
  },
  {
   "cell_type": "code",
   "execution_count": 10,
   "id": "8bfc7858",
   "metadata": {},
   "outputs": [
    {
     "data": {
      "text/plain": [
       "0.16492900641464822"
      ]
     },
     "execution_count": 10,
     "metadata": {},
     "output_type": "execute_result"
    }
   ],
   "source": [
    "moe = 2.576 * sem \n",
    "moe"
   ]
  },
  {
   "cell_type": "code",
   "execution_count": 11,
   "id": "aab47490",
   "metadata": {},
   "outputs": [
    {
     "data": {
      "text/plain": [
       "98.08507099358535"
      ]
     },
     "execution_count": 11,
     "metadata": {},
     "output_type": "execute_result"
    }
   ],
   "source": [
    "#lower = xbar - z * (σ/√n)\n",
    "lower  = xbar - moe\n",
    "lower"
   ]
  },
  {
   "cell_type": "code",
   "execution_count": 12,
   "id": "d83954c8",
   "metadata": {},
   "outputs": [
    {
     "data": {
      "text/plain": [
       "98.41492900641465"
      ]
     },
     "execution_count": 12,
     "metadata": {},
     "output_type": "execute_result"
    }
   ],
   "source": [
    "#upper = xbar + z * (σ/√n)\n",
    "upper  = xbar + moe\n",
    "upper"
   ]
  },
  {
   "cell_type": "code",
   "execution_count": 13,
   "id": "15e630d4",
   "metadata": {},
   "outputs": [
    {
     "data": {
      "text/plain": [
       "(98.08507099358535, 98.41492900641465)"
      ]
     },
     "execution_count": 13,
     "metadata": {},
     "output_type": "execute_result"
    }
   ],
   "source": [
    "ci = (lower, upper)\n",
    "ci"
   ]
  },
  {
   "cell_type": "markdown",
   "id": "91c480c1",
   "metadata": {},
   "source": [
    "**Exercise 3:** The administrators for a hospital wished to estimate the average number of days required for inpatient treatment of patients between the ages of 25 and 34. A random sample of 500 hospital patients between these ages produced a mean and standard deviation equal to 5.4 and 3.1 days, respectively.\n",
    "Construct a 95% confidence interval for the mean length of stay for the population of patients from which the sample was drawn.\n"
   ]
  },
  {
   "cell_type": "code",
   "execution_count": 14,
   "id": "9beb1767",
   "metadata": {},
   "outputs": [],
   "source": [
    "sigma = 3.1\n",
    "xbar = 5.4\n",
    "n = 500\n",
    "z = 1.96   # for ci = 95%"
   ]
  },
  {
   "cell_type": "code",
   "execution_count": 15,
   "id": "272e621c",
   "metadata": {},
   "outputs": [
    {
     "data": {
      "text/plain": [
       "0.13863621460498696"
      ]
     },
     "execution_count": 15,
     "metadata": {},
     "output_type": "execute_result"
    }
   ],
   "source": [
    "sem = sigma / np.sqrt(n)\n",
    "sem"
   ]
  },
  {
   "cell_type": "code",
   "execution_count": 16,
   "id": "b2b8a799",
   "metadata": {},
   "outputs": [
    {
     "data": {
      "text/plain": [
       "(5.127617354510309, 5.672382645489692)"
      ]
     },
     "execution_count": 16,
     "metadata": {},
     "output_type": "execute_result"
    }
   ],
   "source": [
    "stats.t.interval(0.95, df=n-1, loc=xbar, scale=sem)"
   ]
  }
 ],
 "metadata": {
  "kernelspec": {
   "display_name": "Python 3 (ipykernel)",
   "language": "python",
   "name": "python3"
  },
  "language_info": {
   "codemirror_mode": {
    "name": "ipython",
    "version": 3
   },
   "file_extension": ".py",
   "mimetype": "text/x-python",
   "name": "python",
   "nbconvert_exporter": "python",
   "pygments_lexer": "ipython3",
   "version": "3.9.7"
  }
 },
 "nbformat": 4,
 "nbformat_minor": 5
}

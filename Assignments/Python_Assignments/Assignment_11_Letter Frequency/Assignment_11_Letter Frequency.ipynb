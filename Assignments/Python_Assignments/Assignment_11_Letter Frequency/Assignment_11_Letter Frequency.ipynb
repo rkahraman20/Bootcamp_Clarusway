{
 "cells": [
  {
   "cell_type": "code",
   "execution_count": 1,
   "id": "86898bcc-af57-4bdb-887a-b67c9576a3b5",
   "metadata": {},
   "outputs": [
    {
     "name": "stdin",
     "output_type": "stream",
     "text": [
      "Please input a sentence:  Learn something new today!\n",
      "Please input a letter to learn its frequency:  l\n"
     ]
    },
    {
     "name": "stdout",
     "output_type": "stream",
     "text": [
      "l's frequency is 3%\n"
     ]
    }
   ],
   "source": [
    "user_input1 = input(\"Please input a sentence: \")\n",
    "user_input2 = input(\"Please input a letter to learn its frequency: \")\n",
    "print(f\"{user_input2}'s frequency is {int(user_input1.lower().count(user_input2.lower())/len(user_input1)*100)}%\")"
   ]
  },
  {
   "cell_type": "code",
   "execution_count": null,
   "id": "797bfe83-4632-464a-af97-ee21b035faa2",
   "metadata": {},
   "outputs": [],
   "source": []
  }
 ],
 "metadata": {
  "kernelspec": {
   "display_name": "Python 3 (ipykernel)",
   "language": "python",
   "name": "python3"
  },
  "language_info": {
   "codemirror_mode": {
    "name": "ipython",
    "version": 3
   },
   "file_extension": ".py",
   "mimetype": "text/x-python",
   "name": "python",
   "nbconvert_exporter": "python",
   "pygments_lexer": "ipython3",
   "version": "3.9.7"
  }
 },
 "nbformat": 4,
 "nbformat_minor": 5
}
